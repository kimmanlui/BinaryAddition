{
 "cells": [
  {
   "cell_type": "code",
   "execution_count": 205,
   "metadata": {},
   "outputs": [
    {
     "name": "stdout",
     "output_type": "stream",
     "text": [
      "keras version2.0.6\n"
     ]
    }
   ],
   "source": [
    "\n",
    "from keras.models import Sequential\n",
    "from keras.layers.core import Dense, Dropout, Activation\n",
    "from keras.optimizers import SGD\n",
    "import numpy as np \n",
    "import keras\n",
    "import random\n",
    "\n",
    "print(\"keras version\"+keras.__version__)"
   ]
  },
  {
   "cell_type": "code",
   "execution_count": 206,
   "metadata": {},
   "outputs": [],
   "source": [
    "def genData():\n",
    "  a1=random.randint(0,127)\n",
    "  a2=random.randint(0,127)\n",
    "  a3=a1+a2\n",
    "  tmp1=np.unpackbits(np.uint8(a1))\n",
    "  tmp2=np.unpackbits(np.uint8(a2))\n",
    "  y=np.unpackbits(np.uint8(a3))\n",
    "  X=np.concatenate((tmp1, tmp2))\n",
    "  y=np.expand_dims(y,0)\n",
    "  X=np.expand_dims(X,0)\n",
    "  return(X,y)\n"
   ]
  },
  {
   "cell_type": "code",
   "execution_count": 207,
   "metadata": {
    "collapsed": true
   },
   "outputs": [],
   "source": [
    "def overlap(X_train, X_test):\n",
    "  cnt=0\n",
    "  for i in range(np.shape(X_test)[0]):\n",
    "    i=0\n",
    "    iv= X_test[i,:]\n",
    "    #print(iv)\n",
    "    for k in  range(np.shape(X_train)[0]):\n",
    "      kv=X_train[k,:]\n",
    "      #print(kv)\n",
    "      if np.all(iv==kv):\n",
    "        cnt=cnt+1\n",
    "  return(cnt)  "
   ]
  },
  {
   "cell_type": "code",
   "execution_count": 214,
   "metadata": {},
   "outputs": [
    {
     "name": "stdout",
     "output_type": "stream",
     "text": [
      "Sample Percentage: 6.20001240002\n"
     ]
    }
   ],
   "source": [
    "tmpX, tmpy=genData()\n",
    "X=tmpX\n",
    "y=tmpy\n",
    "# Note the total combination is 127 x 127\n",
    "NumSample=1000\n",
    "print(\"Sample Percentage: \"+str(NumSample/(127.*127.)*100))\n",
    "for i in range(NumSample-1):\n",
    "  tmpX, tmpy=genData()\n",
    "  X=np.insert(X, 1, tmpX, axis=0)\n",
    "  y=np.insert(y, 1, tmpy, axis=0)\n",
    "\n"
   ]
  },
  {
   "cell_type": "code",
   "execution_count": 215,
   "metadata": {},
   "outputs": [
    {
     "name": "stdout",
     "output_type": "stream",
     "text": [
      "input_dim: 16\n",
      "output_dim: 8\n"
     ]
    }
   ],
   "source": [
    "\n",
    "input_dim=np.shape(X)[1]\n",
    "print(\"input_dim: \"+str(input_dim))\n",
    "output_dim=np.shape(y)[1]\n",
    "print(\"output_dim: \"+str(output_dim))\n",
    "\n"
   ]
  },
  {
   "cell_type": "code",
   "execution_count": 216,
   "metadata": {
    "collapsed": true
   },
   "outputs": [],
   "source": [
    "from sklearn.model_selection import train_test_split\n",
    "\n",
    "X_train, X_test, y_train, y_test = train_test_split(X, y, test_size=0.33, random_state=42)\n"
   ]
  },
  {
   "cell_type": "code",
   "execution_count": 217,
   "metadata": {},
   "outputs": [
    {
     "name": "stdout",
     "output_type": "stream",
     "text": [
      "finished\n"
     ]
    }
   ],
   "source": [
    "model = Sequential()\n",
    "model.add(Dense(20, input_dim=input_dim))\n",
    "model.add(Activation('tanh'))\n",
    "model.add(Dense(20, input_dim=8))\n",
    "model.add(Activation('tanh'))\n",
    "model.add(Dense(output_dim))\n",
    "model.add(Activation('sigmoid'))\n",
    "\n",
    "sgd = SGD(lr=0.1)\n",
    "model.compile(loss='binary_crossentropy', \n",
    "              optimizer=sgd,\n",
    "              metrics=['accuracy'])\n",
    "\n",
    "model.fit(X_train, y_train, batch_size=4, epochs=1000, verbose=0)\n",
    "print(\"finished\")"
   ]
  },
  {
   "cell_type": "code",
   "execution_count": 222,
   "metadata": {},
   "outputs": [
    {
     "name": "stdout",
     "output_type": "stream",
     "text": [
      "Overlap Percentage: 0\n"
     ]
    }
   ],
   "source": [
    "# Check with how much X_test overlaps X_train\n",
    "print(\"Overlap Percentage: \"+str(overlap(X_train, X_test)))"
   ]
  },
  {
   "cell_type": "code",
   "execution_count": 219,
   "metadata": {},
   "outputs": [
    {
     "name": "stdout",
     "output_type": "stream",
     "text": [
      "244/330 [=====================>........] - ETA: 0s[0.021262432914932794, 0.99431818181818177]\n"
     ]
    }
   ],
   "source": [
    "score = model.evaluate(X_test, y_test, batch_size=4)\n",
    "print(score)\n",
    "# predict(self, x, batch_size=32, verbose=0)\n"
   ]
  },
  {
   "cell_type": "code",
   "execution_count": 227,
   "metadata": {},
   "outputs": [
    {
     "name": "stdout",
     "output_type": "stream",
     "text": [
      "[0 0 1 1 0 0 0 0]\n",
      "+\n",
      "[0 0 0 0 0 1 1 1]\n",
      "----------------\n",
      "[[  9.57744305e-06   9.10499715e-04   9.99716103e-01   9.99986053e-01\n",
      "    1.64891779e-03   9.99194443e-01   9.99991775e-01   9.99949098e-01]]\n",
      "label is\n",
      "[0 0 1 1 0 1 1 1]\n"
     ]
    }
   ],
   "source": [
    "# You may examine the result\n",
    "dx=0\n",
    "print(X_test[dx,0:8])\n",
    "print(\"+\")\n",
    "print(X_test[dx,8:16])\n",
    "print(\"----------------\")\n",
    "print(model.predict(np.expand_dims(X_test[dx,:],0)))\n",
    "print(\"label is\")\n",
    "print(y_test[dx,:])\n",
    "'''\n",
    "[0 0 1 1 0 0 0 0]\n",
    "+\n",
    "[0 0 0 0 0 1 1 1]\n",
    "----------------\n",
    "[[  9.57744305e-06   9.10499715e-04   9.99716103e-01   9.99986053e-01\n",
    "    1.64891779e-03   9.99194443e-01   9.99991775e-01   9.99949098e-01]]\n",
    "label is\n",
    "[0 0 1 1 0 1 1 1]\n",
    "'''"
   ]
  },
  {
   "cell_type": "code",
   "execution_count": null,
   "metadata": {
    "collapsed": true
   },
   "outputs": [],
   "source": []
  }
 ],
 "metadata": {
  "kernelspec": {
   "display_name": "Python 2",
   "language": "python",
   "name": "python2"
  },
  "language_info": {
   "codemirror_mode": {
    "name": "ipython",
    "version": 2
   },
   "file_extension": ".py",
   "mimetype": "text/x-python",
   "name": "python",
   "nbconvert_exporter": "python",
   "pygments_lexer": "ipython2",
   "version": "2.7.12"
  }
 },
 "nbformat": 4,
 "nbformat_minor": 2
}
